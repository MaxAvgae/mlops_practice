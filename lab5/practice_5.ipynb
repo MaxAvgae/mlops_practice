{
  "cells": [
    {
      "cell_type": "code",
      "execution_count": 1,
      "metadata": {
        "id": "LABdfCOFb8rD"
      },
      "outputs": [
        {
          "ename": "ModuleNotFoundError",
          "evalue": "No module named 'matplotlib'",
          "output_type": "error",
          "traceback": [
            "\u001b[1;31m---------------------------------------------------------------------------\u001b[0m",
            "\u001b[1;31mModuleNotFoundError\u001b[0m                       Traceback (most recent call last)",
            "Cell \u001b[1;32mIn[1], line 1\u001b[0m\n\u001b[1;32m----> 1\u001b[0m \u001b[38;5;28;01mimport\u001b[39;00m \u001b[38;5;21;01mmatplotlib\u001b[39;00m\u001b[38;5;21;01m.\u001b[39;00m\u001b[38;5;21;01mpyplot\u001b[39;00m \u001b[38;5;28;01mas\u001b[39;00m \u001b[38;5;21;01mplt\u001b[39;00m\n\u001b[0;32m      2\u001b[0m \u001b[38;5;28;01mimport\u001b[39;00m \u001b[38;5;21;01mnumpy\u001b[39;00m \u001b[38;5;28;01mas\u001b[39;00m \u001b[38;5;21;01mnp\u001b[39;00m\n\u001b[0;32m      3\u001b[0m \u001b[38;5;28;01mfrom\u001b[39;00m \u001b[38;5;21;01msklearn\u001b[39;00m\u001b[38;5;21;01m.\u001b[39;00m\u001b[38;5;21;01mlinear_model\u001b[39;00m \u001b[38;5;28;01mimport\u001b[39;00m LinearRegression\n",
            "\u001b[1;31mModuleNotFoundError\u001b[0m: No module named 'matplotlib'"
          ]
        }
      ],
      "source": [
        "import matplotlib.pyplot as plt\n",
        "import numpy as np\n",
        "from sklearn.linear_model import LinearRegression\n",
        "import pickle"
      ]
    },
    {
      "cell_type": "code",
      "execution_count": null,
      "metadata": {
        "id": "i_pcrqtab-m0"
      },
      "outputs": [],
      "source": [
        "train_x = np.linspace(0, 5, 100)\n",
        "train_y = train_x + np.random.random(100)*2-1"
      ]
    },
    {
      "cell_type": "code",
      "execution_count": null,
      "metadata": {
        "colab": {
          "base_uri": "https://localhost:8080/",
          "height": 430
        },
        "id": "eXr7BF2lcGNg",
        "outputId": "008a696a-1ecb-4ba7-fe91-b6af1d303756"
      },
      "outputs": [
        {
          "data": {
            "image/png": "[encoded data removed]",
            "text/plain": [
              "<Figure size 640x480 with 1 Axes>"
            ]
          },
          "metadata": {},
          "output_type": "display_data"
        }
      ],
      "source": [
        "plt.scatter(train_x, train_y)\n",
        "plt.show()\n"
      ]
    },
    {
      "cell_type": "code",
      "execution_count": 4,
      "metadata": {
        "colab": {
          "base_uri": "https://localhost:8080/"
        },
        "id": "VAIlFS8xcKvm",
        "outputId": "ea6d12ba-f656-4dca-8937-ac885f2c665c"
      },
      "outputs": [
        {
          "data": {
            "text/plain": [
              "0.8793650731607818"
            ]
          },
          "execution_count": 4,
          "metadata": {},
          "output_type": "execute_result"
        }
      ],
      "source": [
        "train_x = train_x.reshape(-1,1)\n",
        "train_y = train_y.reshape(-1,1)\n",
        "reg = LinearRegression().fit(train_x, train_y)\n",
        "reg.score(train_x, train_y)"
      ]
    },
    {
      "cell_type": "code",
      "execution_count": 5,
      "metadata": {
        "id": "hr_iui1scRlm"
      },
      "outputs": [],
      "source": [
        "filename = 'model.sav'\n",
        "pickle.dump(reg, open(filename, 'wb'))"
      ]
    },
    {
      "cell_type": "code",
      "execution_count": 6,
      "metadata": {
        "colab": {
          "base_uri": "https://localhost:8080/"
        },
        "id": "qQeQIpMfesw4",
        "outputId": "ca06ad1f-94ee-4960-efd6-9557794c975d"
      },
      "outputs": [
        {
          "name": "stdout",
          "output_type": "stream",
          "text": [
            "Writing test.py\n"
          ]
        }
      ],
      "source": [
        "%%writefile test.py\n",
        "import pickle\n",
        "import numpy as np\n",
        "from sklearn.linear_model import LinearRegression\n",
        "\n",
        "# Загрузка обученной модели\n",
        "filename = 'model.sav'\n",
        "model = pickle.load(open(filename, 'rb'))\n",
        "\n",
        "# Первый тестовый набор данных\n",
        "def test_one():\n",
        "  test_x_1 = np.linspace(0, 15, 100)\n",
        "  test_y_1 = test_x_1 + np.random.random(100)*3-2\n",
        "  test_x_1 = test_x_1.reshape(-1,1)\n",
        "  test_y_1 = test_y_1.reshape(-1,1)\n",
        "  assert model.score(test_x_1, test_y_1) > 0.5, \"Низкий уровень предсказания!\"\n",
        "\n",
        "# Второй тестовый набор данных\n",
        "def test_two():\n",
        "  test_x_2 = np.linspace(0, 10, 100)\n",
        "  test_y_2 = test_x_2 + np.random.random(100)*4-3\n",
        "  test_x_2 = test_x_2.reshape(-1,1)\n",
        "  test_y_2 = test_y_2.reshape(-1,1)\n",
        "  assert model.score(test_x_2, test_y_2) > 0.5, \"Низкий уровень предсказания!\"\n",
        "\n",
        "# Шумовой набор данных\n",
        "def test_with_noise():\n",
        "  noise_data_x = np.linspace(0, 15, 100)\n",
        "  noise_data_y = noise_data_x + np.random.random(100)*3-1\n",
        "  noise_data_y[25:45] *= -2\n",
        "  noise_data_x = noise_data_x.reshape(-1,1)\n",
        "  noise_data_y = noise_data_y.reshape(-1,1)\n",
        "  assert model.score(noise_data_x, noise_data_y) > 0.5, \"Низкий уровень предсказани"
      ]
    },
    {
      "cell_type": "code",
      "execution_count": 7,
      "metadata": {
        "colab": {
          "base_uri": "https://localhost:8080/"
        },
        "id": "GRC7P8Wwe2lV",
        "outputId": "86f85695-460d-4e32-c790-8d834bf8ed51"
      },
      "outputs": [
        {
          "name": "stdout",
          "output_type": "stream",
          "text": [
            "\u001b[1m======================================= test session starts ========================================\u001b[0m\n",
            "platform linux -- Python 3.10.12, pytest-7.4.4, pluggy-1.3.0\n",
            "rootdir: /content\n",
            "plugins: anyio-3.7.1\n",
            "\u001b[1mcollecting ... \u001b[0m\u001b[1m\rcollected 0 items / 1 error                                                                        \u001b[0m\n",
            "\n",
            "============================================== ERRORS ==============================================\n",
            "\u001b[31m\u001b[1m_____________________________________ ERROR collecting test.py _____________________________________\u001b[0m\n",
            "\u001b[31m/usr/local/lib/python3.10/dist-packages/_pytest/python.py:617: in _importtestmodule\n",
            "    mod = import_path(self.path, mode=importmode, root=self.config.rootpath)\n",
            "/usr/local/lib/python3.10/dist-packages/_pytest/pathlib.py:567: in import_path\n",
            "    importlib.import_module(module_name)\n",
            "/usr/lib/python3.10/importlib/__init__.py:126: in import_module\n",
            "    return _bootstrap._gcd_import(name[level:], package, level)\n",
            "<frozen importlib._bootstrap>:1050: in _gcd_import\n",
            "    ???\n",
            "<frozen importlib._bootstrap>:1027: in _find_and_load\n",
            "    ???\n",
            "<frozen importlib._bootstrap>:1006: in _find_and_load_unlocked\n",
            "    ???\n",
            "<frozen importlib._bootstrap>:688: in _load_unlocked\n",
            "    ???\n",
            "/usr/local/lib/python3.10/dist-packages/_pytest/assertion/rewrite.py:177: in exec_module\n",
            "    source_stat, co = _rewrite_test(fn, self.config)\n",
            "/usr/local/lib/python3.10/dist-packages/_pytest/assertion/rewrite.py:359: in _rewrite_test\n",
            "    tree = ast.parse(source, filename=strfn)\n",
            "/usr/lib/python3.10/ast.py:50: in parse\n",
            "    return compile(source, filename, mode, flags,\n",
            "E     File \"/content/test.py\", line 32\n",
            "E       assert model.score(noise_data_x, noise_data_y) > 0.5, \"Низкий уровень предсказани\n",
            "E                                                             ^\n",
            "E   SyntaxError: unterminated string literal (detected at line 32)\u001b[0m\n",
            "\u001b[36m\u001b[1m===================================== short test summary info ======================================\u001b[0m\n",
            "\u001b[31mERROR\u001b[0m test.py\n",
            "!!!!!!!!!!!!!!!!!!!!!!!!!!!!!! Interrupted: 1 error during collection !!!!!!!!!!!!!!!!!!!!!!!!!!!!!!\n",
            "\u001b[31m========================================= \u001b[31m\u001b[1m1 error\u001b[0m\u001b[31m in 0.21s\u001b[0m\u001b[31m =========================================\u001b[0m\n"
          ]
        }
      ],
      "source": [
        "!pytest test.py"
      ]
    }
  ],
  "metadata": {
    "colab": {
      "provenance": []
    },
    "kernelspec": {
      "display_name": "Python 3",
      "name": "python3"
    },
    "language_info": {
      "codemirror_mode": {
        "name": "ipython",
        "version": 3
      },
      "file_extension": ".py",
      "mimetype": "text/x-python",
      "name": "python",
      "nbconvert_exporter": "python",
      "pygments_lexer": "ipython3",
      "version": "3.11.3"
    }
  },
  "nbformat": 4,
  "nbformat_minor": 0
}
